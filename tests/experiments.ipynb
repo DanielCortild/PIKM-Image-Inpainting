{
 "cells": [
  {
   "attachments": {},
   "cell_type": "markdown",
   "id": "86ea61cc-06b8-4801-a65f-2b6ec099a09a",
   "metadata": {
    "tags": []
   },
   "source": [
    "# Numerical Experiments on Parameters"
   ]
  },
  {
   "attachments": {},
   "cell_type": "markdown",
   "id": "8cbc51cc-7310-467a-a820-7318f6b73734",
   "metadata": {},
   "source": [
    "First, we import the required files and libraries"
   ]
  },
  {
   "cell_type": "code",
   "execution_count": 1,
   "metadata": {},
   "outputs": [
    {
     "name": "stderr",
     "output_type": "stream",
     "text": [
      "/Library/Frameworks/Python.framework/Versions/3.11/lib/python3.11/site-packages/tqdm/auto.py:21: TqdmWarning: IProgress not found. Please update jupyter and ipywidgets. See https://ipywidgets.readthedocs.io/en/stable/user_install.html\n",
      "  from .autonotebook import tqdm as notebook_tqdm\n"
     ]
    }
   ],
   "source": [
    "import sys\n",
    "sys.path.append('../src')\n",
    "\n",
    "from PIKM_Inpainter import plotExperiments, plotExperimentRegularisation\n",
    "import numpy as np"
   ]
  },
  {
   "attachments": {},
   "cell_type": "markdown",
   "id": "62ecb29a-2b55-4271-9db7-16c5208a89af",
   "metadata": {},
   "source": [
    "## On the ratio of erased pixels"
   ]
  },
  {
   "cell_type": "code",
   "execution_count": 2,
   "metadata": {},
   "outputs": [
    {
     "name": "stderr",
     "output_type": "stream",
     "text": [
      "2it [03:09, 109.31s/it]/Users/danielcortild/RuG Drive/Research/Paper PIKM/Code Python TOS/tests/../src/PIKM_Inpainter/Algorithm.py:79: RuntimeWarning: invalid value encountered in scalar divide\n",
      "  self.R = lambda X1, X0: np.linalg.norm(X1 - X0) / np.linalg.norm(X0)\n",
      "3it [05:38, 112.90s/it]\n"
     ]
    },
    {
     "ename": "NameError",
     "evalue": "name 'parameters' is not defined",
     "output_type": "error",
     "traceback": [
      "\u001b[0;31m---------------------------------------------------------------------------\u001b[0m",
      "\u001b[0;31mNameError\u001b[0m                                 Traceback (most recent call last)",
      "\u001b[1;32m/Users/danielcortild/RuG Drive/Research/Paper PIKM/Code Python TOS/tests/experiments.ipynb Cell 5\u001b[0m line \u001b[0;36m1\n\u001b[0;32m----> <a href='vscode-notebook-cell:/Users/danielcortild/RuG%20Drive/Research/Paper%20PIKM/Code%20Python%20TOS/tests/experiments.ipynb#X22sZmlsZQ%3D%3D?line=0'>1</a>\u001b[0m plotExperiments(rho\u001b[39m=\u001b[39;49m\u001b[39m1\u001b[39;49m, sigma\u001b[39m=\u001b[39;49m\u001b[39m0.5\u001b[39;49m, lamb\u001b[39m=\u001b[39;49m\u001b[39m0.5\u001b[39;49m, percent\u001b[39m=\u001b[39;49mnp\u001b[39m.\u001b[39;49mlinspace(\u001b[39m0\u001b[39;49m, \u001b[39m1\u001b[39;49m, \u001b[39m3\u001b[39;49m))\n",
      "File \u001b[0;32m~/RuG Drive/Research/Paper PIKM/Code Python TOS/tests/../src/PIKM_Inpainter/experiments.py:144\u001b[0m, in \u001b[0;36mplotExperiments\u001b[0;34m(rho, sigma, lamb, percent)\u001b[0m\n\u001b[1;32m    140\u001b[0m     its_R[i], time_R[i] \u001b[39m=\u001b[39m runAlgorithm(rho, lamb, sigma, percent,\n\u001b[1;32m    141\u001b[0m                                 tolerance, max_it, method\u001b[39m=\u001b[39m\u001b[39m\"\u001b[39m\u001b[39mreflected\u001b[39m\u001b[39m\"\u001b[39m)\n\u001b[1;32m    143\u001b[0m \u001b[39m# Plot the results\u001b[39;00m\n\u001b[0;32m--> 144\u001b[0m plotItsTime(parameters, max_it, its_S, its_H, its_N, its_R, \n\u001b[1;32m    145\u001b[0m             time_S, time_H, time_N, time_R, xAxis, title)\n\u001b[1;32m    147\u001b[0m \u001b[39mreturn\u001b[39;00m its_S, its_H, its_N, its_R, time_S, time_H, time_N, time_R\n",
      "\u001b[0;31mNameError\u001b[0m: name 'parameters' is not defined"
     ]
    }
   ],
   "source": [
    "plotExperiments(rho=1, sigma=0.5, lamb=0.5, percent=np.linspace(0, 1, 19))"
   ]
  },
  {
   "attachments": {},
   "cell_type": "markdown",
   "id": "3fc73e1f-a3fb-4b05-a8f2-c0a805db1b5e",
   "metadata": {},
   "source": [
    "## On the step size"
   ]
  },
  {
   "cell_type": "code",
   "execution_count": 27,
   "id": "35e18e26-19f2-4671-83eb-94660fedc625",
   "metadata": {},
   "outputs": [
    {
     "name": "stderr",
     "output_type": "stream",
     "text": [
      "100%|██████████| 19/19 [35:24<00:00, 111.81s/it]\n"
     ]
    }
   ],
   "source": [
    "plotExperiments(rho=np.linspace(0.1, 1.9, 19), sigma=0.5, lamb=0.5, percent=0.5)"
   ]
  },
  {
   "attachments": {},
   "cell_type": "markdown",
   "id": "cac25b1b-1622-48c7-b0b6-b85b5c85df8c",
   "metadata": {},
   "source": [
    "## On the relaxation parameter"
   ]
  },
  {
   "cell_type": "code",
   "execution_count": 33,
   "id": "9177fc7d-5499-43d9-938e-6c8c8027e27d",
   "metadata": {
    "tags": []
   },
   "outputs": [
    {
     "name": "stderr",
     "output_type": "stream",
     "text": [
      " 64%|██████▍   | 9/14 [29:18<12:56, 155.32s/it]  /Library/Frameworks/Python.framework/Versions/3.11/lib/python3.11/site-packages/scipy/optimize/_minpack_py.py:177: RuntimeWarning: The iteration is not making good progress, as measured by the \n",
      "  improvement from the last ten iterations.\n",
      "  warnings.warn(msg, RuntimeWarning)\n",
      "100%|██████████| 14/14 [38:45<00:00, 166.08s/it]\n"
     ]
    }
   ],
   "source": [
    "plotExperiments(rho=1, sigma=0.5, lamb=np.linspace(0.1, 1.4, 14), percent=0.5)"
   ]
  },
  {
   "attachments": {},
   "cell_type": "markdown",
   "id": "1212b7ea-d722-4cab-ba25-69e84cbca7f9",
   "metadata": {},
   "source": [
    "## On the regularisation parameter"
   ]
  },
  {
   "cell_type": "code",
   "execution_count": null,
   "metadata": {},
   "outputs": [],
   "source": [
    "plotExperiments(rho=1, sigma=np.linspace(1, 16, 16), lamb=0.5, percent=0.5)"
   ]
  },
  {
   "cell_type": "code",
   "execution_count": 2,
   "id": "97087122-61dc-42b3-96db-088655572421",
   "metadata": {},
   "outputs": [
    {
     "name": "stderr",
     "output_type": "stream",
     "text": [
      " 30%|███       | 30/100 [00:16<00:38,  1.83it/s]\n",
      "  0%|          | 0/6 [00:16<?, ?it/s]\n"
     ]
    },
    {
     "ename": "KeyboardInterrupt",
     "evalue": "",
     "output_type": "error",
     "traceback": [
      "\u001b[0;31m---------------------------------------------------------------------------\u001b[0m",
      "\u001b[0;31mKeyboardInterrupt\u001b[0m                         Traceback (most recent call last)",
      "\u001b[1;32m/Users/danielcortild/RuG Drive/Research/Paper PIKM/Code Python TOS/tests/experiments.ipynb Cell 11\u001b[0m line \u001b[0;36m1\n\u001b[0;32m----> <a href='vscode-notebook-cell:/Users/danielcortild/RuG%20Drive/Research/Paper%20PIKM/Code%20Python%20TOS/tests/experiments.ipynb#X20sZmlsZQ%3D%3D?line=0'>1</a>\u001b[0m plotExperimentRegularisation(rho\u001b[39m=\u001b[39;49m\u001b[39m1\u001b[39;49m, lamb\u001b[39m=\u001b[39;49m\u001b[39m0.5\u001b[39;49m, sigmas\u001b[39m=\u001b[39;49m[\u001b[39m0.0625\u001b[39;49m, \u001b[39m0.25\u001b[39;49m, \u001b[39m0.5\u001b[39;49m, \u001b[39m1\u001b[39;49m, \u001b[39m4\u001b[39;49m, \u001b[39m16\u001b[39;49m], percent\u001b[39m=\u001b[39;49m\u001b[39m0.5\u001b[39;49m, method\u001b[39m=\u001b[39;49m\u001b[39m\"\u001b[39;49m\u001b[39mnesterov\u001b[39;49m\u001b[39m\"\u001b[39;49m)\n",
      "File \u001b[0;32m~/RuG Drive/Research/Paper PIKM/Code Python TOS/tests/../src/PIKM_Inpainter/experiments.py:222\u001b[0m, in \u001b[0;36mplotExperimentRegularisation\u001b[0;34m(rho, lamb, sigmas, percent, method)\u001b[0m\n\u001b[1;32m    219\u001b[0m sols \u001b[39m=\u001b[39m [\u001b[39mNone\u001b[39;00m] \u001b[39m*\u001b[39m \u001b[39mlen\u001b[39m(sigmas)\n\u001b[1;32m    220\u001b[0m \u001b[39mfor\u001b[39;00m i, sigma \u001b[39min\u001b[39;00m \u001b[39menumerate\u001b[39m(tqdm(sigmas)):\n\u001b[1;32m    221\u001b[0m     sols[i] \u001b[39m=\u001b[39m Algorithm(image_corrupt, mask, rho, lamb, sigma, \n\u001b[0;32m--> 222\u001b[0m                         tolerance, max_it, method\u001b[39m=\u001b[39;49mmethod)\u001b[39m.\u001b[39;49mrun()[\u001b[39m0\u001b[39m]\n\u001b[1;32m    224\u001b[0m \u001b[39m# Plot Original and Result\u001b[39;00m\n\u001b[1;32m    225\u001b[0m fig, axs \u001b[39m=\u001b[39m plt\u001b[39m.\u001b[39msubplots(\u001b[39m2\u001b[39m, \u001b[39m4\u001b[39m, figsize\u001b[39m=\u001b[39m(\u001b[39m12\u001b[39m, \u001b[39m6\u001b[39m), dpi\u001b[39m=\u001b[39m\u001b[39m100\u001b[39m)\n",
      "File \u001b[0;32m~/RuG Drive/Research/Paper PIKM/Code Python TOS/tests/../src/PIKM_Inpainter/Algorithm.py:132\u001b[0m, in \u001b[0;36mAlgorithm.run\u001b[0;34m(self, bregman, verbose)\u001b[0m\n\u001b[1;32m    129\u001b[0m start \u001b[39m=\u001b[39m time\u001b[39m.\u001b[39mtime()\n\u001b[1;32m    131\u001b[0m \u001b[39mfor\u001b[39;00m its \u001b[39min\u001b[39;00m trange(\u001b[39mself\u001b[39m\u001b[39m.\u001b[39mmax_it, disable \u001b[39m=\u001b[39m \u001b[39mnot\u001b[39;00m verbose):\n\u001b[0;32m--> 132\u001b[0m     X_previous, X_next, X_T \u001b[39m=\u001b[39m \u001b[39mself\u001b[39;49m\u001b[39m.\u001b[39;49m__iterate(X_previous, X_next, its)\n\u001b[1;32m    133\u001b[0m     X_hist\u001b[39m.\u001b[39mappend(X_previous)\n\u001b[1;32m    134\u001b[0m     X_F_hist\u001b[39m.\u001b[39mappend(\u001b[39mself\u001b[39m\u001b[39m.\u001b[39mF(X_previous))\n",
      "File \u001b[0;32m~/RuG Drive/Research/Paper PIKM/Code Python TOS/tests/../src/PIKM_Inpainter/Algorithm.py:112\u001b[0m, in \u001b[0;36mAlgorithm.__iterate\u001b[0;34m(self, X_previous, X_actual, k)\u001b[0m\n\u001b[1;32m    110\u001b[0m Y       \u001b[39m=\u001b[39m X_actual \u001b[39m+\u001b[39m alpha \u001b[39m*\u001b[39m (X_actual \u001b[39m-\u001b[39m X_previous)\n\u001b[1;32m    111\u001b[0m Z       \u001b[39m=\u001b[39m X_actual \u001b[39m+\u001b[39m beta \u001b[39m*\u001b[39m (X_actual \u001b[39m-\u001b[39m X_previous)\n\u001b[0;32m--> 112\u001b[0m X_g     \u001b[39m=\u001b[39m \u001b[39mself\u001b[39;49m\u001b[39m.\u001b[39;49mproxg(Z)\n\u001b[1;32m    113\u001b[0m X_T     \u001b[39m=\u001b[39m Z \u001b[39m-\u001b[39m X_g \u001b[39m+\u001b[39m \u001b[39mself\u001b[39m\u001b[39m.\u001b[39mproxf(\u001b[39m2\u001b[39m \u001b[39m*\u001b[39m X_g \u001b[39m-\u001b[39m Z \u001b[39m-\u001b[39m \u001b[39mself\u001b[39m\u001b[39m.\u001b[39mrho \u001b[39m*\u001b[39m (\u001b[39mself\u001b[39m\u001b[39m.\u001b[39mA(X_g) \u001b[39m-\u001b[39m \u001b[39mself\u001b[39m\u001b[39m.\u001b[39mX_corrupt))\n\u001b[1;32m    114\u001b[0m X_next  \u001b[39m=\u001b[39m (\u001b[39m1\u001b[39m \u001b[39m-\u001b[39m lambd) \u001b[39m*\u001b[39m Y \u001b[39m+\u001b[39m lambd \u001b[39m*\u001b[39m X_T\n",
      "File \u001b[0;32m~/RuG Drive/Research/Paper PIKM/Code Python TOS/tests/../src/PIKM_Inpainter/Algorithm.py:82\u001b[0m, in \u001b[0;36mAlgorithm.__init__.<locals>.<lambda>\u001b[0;34m(X)\u001b[0m\n\u001b[1;32m     80\u001b[0m \u001b[39mself\u001b[39m\u001b[39m.\u001b[39mA \u001b[39m=\u001b[39m \u001b[39mlambda\u001b[39;00m X: mask\u001b[39m.\u001b[39mmask_image(X)\n\u001b[1;32m     81\u001b[0m \u001b[39mself\u001b[39m\u001b[39m.\u001b[39mproxf \u001b[39m=\u001b[39m \u001b[39mlambda\u001b[39;00m X: unfold(svd_shrink(fold(X, \u001b[39m0\u001b[39m), rho\u001b[39m*\u001b[39msigma), \u001b[39m0\u001b[39m)\n\u001b[0;32m---> 82\u001b[0m \u001b[39mself\u001b[39m\u001b[39m.\u001b[39mproxg \u001b[39m=\u001b[39m \u001b[39mlambda\u001b[39;00m X: unfold(svd_shrink(fold(X, \u001b[39m1\u001b[39;49m), rho\u001b[39m*\u001b[39;49msigma), \u001b[39m1\u001b[39m)\n\u001b[1;32m     84\u001b[0m \u001b[39mif\u001b[39;00m method \u001b[39m==\u001b[39m \u001b[39m\"\u001b[39m\u001b[39mstatic\u001b[39m\u001b[39m\"\u001b[39m:\n\u001b[1;32m     85\u001b[0m     alpha \u001b[39m=\u001b[39m beta \u001b[39m=\u001b[39m \u001b[39m0\u001b[39m\n",
      "File \u001b[0;32m~/RuG Drive/Research/Paper PIKM/Code Python TOS/tests/../src/PIKM_Inpainter/Algorithm.py:23\u001b[0m, in \u001b[0;36msvd_shrink\u001b[0;34m(X, r)\u001b[0m\n\u001b[1;32m     19\u001b[0m \u001b[39m\u001b[39m\u001b[39m\"\"\"\u001b[39;00m\n\u001b[1;32m     20\u001b[0m \u001b[39mReturns the proximal of the nuclear norm\u001b[39;00m\n\u001b[1;32m     21\u001b[0m \u001b[39m\"\"\"\u001b[39;00m\n\u001b[1;32m     22\u001b[0m \u001b[39mtry\u001b[39;00m:\n\u001b[0;32m---> 23\u001b[0m     U, S, VT \u001b[39m=\u001b[39m sp\u001b[39m.\u001b[39;49mlinalg\u001b[39m.\u001b[39;49msvd(X, full_matrices\u001b[39m=\u001b[39;49m\u001b[39mFalse\u001b[39;49;00m)\n\u001b[1;32m     24\u001b[0m     S_shrink \u001b[39m=\u001b[39m np\u001b[39m.\u001b[39mmaximum(S \u001b[39m-\u001b[39m r, \u001b[39m0\u001b[39m)\n\u001b[1;32m     25\u001b[0m     X_shrink \u001b[39m=\u001b[39m ( U \u001b[39m*\u001b[39m S_shrink ) \u001b[39m@\u001b[39m VT\n",
      "File \u001b[0;32m/Library/Frameworks/Python.framework/Versions/3.11/lib/python3.11/site-packages/scipy/linalg/_decomp_svd.py:127\u001b[0m, in \u001b[0;36msvd\u001b[0;34m(a, full_matrices, compute_uv, overwrite_a, check_finite, lapack_driver)\u001b[0m\n\u001b[1;32m    123\u001b[0m lwork \u001b[39m=\u001b[39m _compute_lwork(gesXd_lwork, a1\u001b[39m.\u001b[39mshape[\u001b[39m0\u001b[39m], a1\u001b[39m.\u001b[39mshape[\u001b[39m1\u001b[39m],\n\u001b[1;32m    124\u001b[0m                        compute_uv\u001b[39m=\u001b[39mcompute_uv, full_matrices\u001b[39m=\u001b[39mfull_matrices)\n\u001b[1;32m    126\u001b[0m \u001b[39m# perform decomposition\u001b[39;00m\n\u001b[0;32m--> 127\u001b[0m u, s, v, info \u001b[39m=\u001b[39m gesXd(a1, compute_uv\u001b[39m=\u001b[39;49mcompute_uv, lwork\u001b[39m=\u001b[39;49mlwork,\n\u001b[1;32m    128\u001b[0m                       full_matrices\u001b[39m=\u001b[39;49mfull_matrices, overwrite_a\u001b[39m=\u001b[39;49moverwrite_a)\n\u001b[1;32m    130\u001b[0m \u001b[39mif\u001b[39;00m info \u001b[39m>\u001b[39m \u001b[39m0\u001b[39m:\n\u001b[1;32m    131\u001b[0m     \u001b[39mraise\u001b[39;00m LinAlgError(\u001b[39m\"\u001b[39m\u001b[39mSVD did not converge\u001b[39m\u001b[39m\"\u001b[39m)\n",
      "\u001b[0;31mKeyboardInterrupt\u001b[0m: "
     ]
    }
   ],
   "source": [
    "plotExperimentRegularisation(rho=1, sigmas=[0.0625, 0.25, 0.5, 1, 4, 16], lamb=0.5, percent=0.5, method=\"nesterov\")"
   ]
  }
 ],
 "metadata": {
  "kernelspec": {
   "display_name": "Python 3 (ipykernel)",
   "language": "python",
   "name": "python3"
  },
  "language_info": {
   "codemirror_mode": {
    "name": "ipython",
    "version": 3
   },
   "file_extension": ".py",
   "mimetype": "text/x-python",
   "name": "python",
   "nbconvert_exporter": "python",
   "pygments_lexer": "ipython3",
   "version": "3.11.5"
  }
 },
 "nbformat": 4,
 "nbformat_minor": 5
}
